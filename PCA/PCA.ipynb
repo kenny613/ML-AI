{
 "cells": [
  {
   "cell_type": "code",
   "execution_count": 3,
   "id": "social-instruction",
   "metadata": {},
   "outputs": [],
   "source": [
    "import numpy as np\n",
    "from sklearn.decomposition import PCA\n",
    "import matplotlib.pyplot as plt"
   ]
  },
  {
   "cell_type": "code",
   "execution_count": 4,
   "id": "thermal-assembly",
   "metadata": {},
   "outputs": [],
   "source": [
    "def create_data(x1, x2, x3):\n",
    "    x4 = -4.0 * x1\n",
    "    x5 = 10 * x1 + 10\n",
    "    x6 = -1 * x2 / 2\n",
    "    x7 = np.multiply(x2, x2)\n",
    "    x8 = -1 * x3 / 10\n",
    "    x9 = 2.0 * x3 + 2.0\n",
    "    X = np.hstack((x1, x2, x3, x4, x5, x6, x7, x8, x9))\n",
    "    return X"
   ]
  },
  {
   "cell_type": "code",
   "execution_count": 2,
   "id": "advanced-viking",
   "metadata": {},
   "outputs": [],
   "source": [
    "def pca(X):\n",
    "   \n",
    "    mean_vector = X.mean(axis=0)\n",
    "    X = X - mean_vector\n",
    "    cov=np.cov(np.transpose(X))\n",
    "    d, V = np.linalg.eig(cov)\n",
    "\n",
    "    index_order = (-d).argsort()\n",
    "    d = d[index_order]\n",
    "    V = V[index_order]\n",
    "\n",
    "    return [d, V]"
   ]
  },
  {
   "cell_type": "code",
   "execution_count": null,
   "id": "appropriate-stocks",
   "metadata": {},
   "outputs": [],
   "source": [
    "def plot_figs(X):\n",
    "\n",
    "    ####################################################################\n",
    "    # Plot The figure of eigenvalues v.s. the order of eigenvalues. All eigenvalues in a decreasing order.\n",
    "    ####################################################################\n",
    "\n",
    "    d, V = pca(X)\n",
    "    plt.suptitle(\"Eigenvalues vs order\")\n",
    "    plt.xlabel('Order')\n",
    "    plt.ylabel('Eigenvalues')\n",
    "    x = list(range(1, len(d) + 1))\n",
    "    plt.plot(x, d, '+-')\n",
    "    #plt.savefig('eigenvalues.jpg')\n",
    "    plt.show()\n",
    "    \n",
    "    ####################################################################\n",
    "    # Plot The figure of POV v.s. the order of the eigenvalues.\n",
    "    ####################################################################\n",
    "\n",
    "    plt.clf()\n",
    "    plt.suptitle(\"POV vs order\")\n",
    "    pov = []\n",
    "    for i in range(1, len(d) + 1):\n",
    "        pov.append(sum(d[:i]) / sum(d))\n",
    "    plt.xlabel('Order')\n",
    "    plt.ylabel('PoV')\n",
    "    x = list(range(1, len(d) + 1))\n",
    "    plt.plot(x, pov, '|-')\n",
    "    # plt.savefig('ex1_POV.jpg')\n",
    "    plt.show()\n",
    "   \n",
    "    return"
   ]
  },
  {
   "cell_type": "code",
   "execution_count": null,
   "id": "funded-bride",
   "metadata": {},
   "outputs": [],
   "source": [
    "def main():\n",
    "    N = 1000\n",
    "    shape = (N, 1)\n",
    "    x1 = np.random.normal(0, 1, shape)  # samples from normal distribution\n",
    "    x2 = np.random.exponential(10.0, shape)  # samples from exponential distribution\n",
    "    x3 = np.random.uniform(-100, 100, shape)  # uniformly sampled data points\n",
    "    X = create_data(x1, x2, x3)\n",
    "\n",
    "    print(pca(X))\n",
    "    sk_pca = PCA(n_components=9)\n",
    "    sk_pca.fit(X)\n",
    "    print(\"Eigenvalue :\", sk_pca.explained_variance_)\n",
    "    plot_figs(X)\n",
    "    plt.show()"
   ]
  },
  {
   "cell_type": "code",
   "execution_count": null,
   "id": "upset-oakland",
   "metadata": {},
   "outputs": [],
   "source": [
    "if __name__ == '__main__':\n",
    "    main()"
   ]
  }
 ],
 "metadata": {
  "kernelspec": {
   "display_name": "Python 3",
   "language": "python",
   "name": "python3"
  },
  "language_info": {
   "codemirror_mode": {
    "name": "ipython",
    "version": 3
   },
   "file_extension": ".py",
   "mimetype": "text/x-python",
   "name": "python",
   "nbconvert_exporter": "python",
   "pygments_lexer": "ipython3",
   "version": "3.8.3"
  }
 },
 "nbformat": 4,
 "nbformat_minor": 5
}
